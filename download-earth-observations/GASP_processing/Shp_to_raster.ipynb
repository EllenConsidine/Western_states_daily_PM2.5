{
 "cells": [
  {
   "cell_type": "code",
   "execution_count": 4,
   "metadata": {},
   "outputs": [],
   "source": [
    "#import packages\n",
    "import geopandas as gpd\n",
    "#from osgeo import gdal\n",
    "import subprocess\n",
    "import os\n",
    "\n",
    "#Settings\n",
    "os.chdir('C:\\\\Users\\\\ellen\\\\OneDrive\\\\MyDocs\\\\Earth Lab Internship\\\\Spatial_Processing\\\\test_data\\\\')"
   ]
  },
  {
   "cell_type": "code",
   "execution_count": 5,
   "metadata": {},
   "outputs": [],
   "source": [
    "# item = 'C:\\\\Users\\\\ellen\\\\OneDrive\\\\MyDocs\\\\Earth Lab Internship\\\\Spatial_Processing\\\\test_data\\\\2008_092_0715.shp'\n",
    "# outpath = 'C:\\\\Users\\\\ellen\\\\OneDrive\\\\MyDocs\\\\Earth Lab Internship\\\\Spatial_Processing\\\\test_data\\\\'\n",
    "# if 1 == 1:\n",
    "\n",
    "def rasterize(origpath, outpath, item): #item will be a shapefile\n",
    "    #read in shapefile\n",
    "    SHP = gpd.read_file(item)\n",
    "    basename = os.path.basename(item)\n",
    "    #reproject shapefile\n",
    "    new_SHP = SHP.to_crs({'init':'esri:102003'}) \n",
    "    proj_str= 'PROJCS[\"USA_Contiguous_Albers_Equal_Area_Conic\",GEOGCS[\"GCS_North_American_1983\",DATUM[\"D_North_American_1983\",SPHEROID[\"GRS_1980\",6378137,298.257222101]],PRIMEM[\"Greenwich\",0],UNIT[\"Degree\",0.017453292519943295]],PROJECTION[\"Albers\"],PARAMETER[\"False_Easting\",0],PARAMETER[\"False_Northing\",0],PARAMETER[\"central_meridian\",-96],PARAMETER[\"Standard_Parallel_1\",29.5],PARAMETER[\"Standard_Parallel_2\",45.5],PARAMETER[\"latitude_of_origin\",37.5],UNIT[\"Meter\",1]]'\n",
    "    #write reprojected shapefile\n",
    "    intermediate = \"new_\" + basename\n",
    "    new_SHP.to_file(intermediate, driver = 'ESRI Shapefile', crs_wkt = proj_str)\n",
    "    #write raster\n",
    "    outfile = outpath + basename[:-4] + \".tif\"\n",
    "    subprocess.call(['gdal_grid', '-zfield', 'aod', '-a', 'linear', '-txe', '-2380056.81286844', '-480056.81286844425', '-tye', '-638166.9912686478', '1581833.0087313522', '-outsize', '555', '475', '-of', 'GTiff', '-ot', 'Float64', intermediate, outfile])\n",
    "    "
   ]
  },
  {
   "cell_type": "code",
   "execution_count": null,
   "metadata": {},
   "outputs": [],
   "source": []
  }
 ],
 "metadata": {
  "kernelspec": {
   "display_name": "Python [conda env:earth-analytics-python]",
   "language": "python",
   "name": "conda-env-earth-analytics-python-py"
  },
  "language_info": {
   "codemirror_mode": {
    "name": "ipython",
    "version": 3
   },
   "file_extension": ".py",
   "mimetype": "text/x-python",
   "name": "python",
   "nbconvert_exporter": "python",
   "pygments_lexer": "ipython3",
   "version": "3.6.5"
  }
 },
 "nbformat": 4,
 "nbformat_minor": 2
}
