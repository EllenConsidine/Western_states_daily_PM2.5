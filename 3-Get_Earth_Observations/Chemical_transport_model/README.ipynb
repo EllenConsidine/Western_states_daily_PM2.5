{
 "cells": [
  {
   "cell_type": "markdown",
   "metadata": {},
   "source": [
    "Obtain CMAQ simulations from EPA.\n",
    "\n",
    "At this step, it is assumed that you already have a data frame with at least coordinates and dates. The scripts ***Merge_early_CMAQ.R*** and ***Merge_later_CMAQ.R*** extract the CMAQ value that is closest to each location of interest (in the observation or the prediction data set). The formats of the files for 2008-2012 and 2013-2016 are different, hence the separate scripts. "
   ]
  }
 ],
 "metadata": {
  "kernelspec": {
   "display_name": "Python 3",
   "language": "python",
   "name": "python3"
  },
  "language_info": {
   "codemirror_mode": {
    "name": "ipython",
    "version": 3
   },
   "file_extension": ".py",
   "mimetype": "text/x-python",
   "name": "python",
   "nbconvert_exporter": "python",
   "pygments_lexer": "ipython3",
   "version": "3.6.5"
  }
 },
 "nbformat": 4,
 "nbformat_minor": 2
}
