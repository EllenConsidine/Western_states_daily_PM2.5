{
 "cells": [
  {
   "cell_type": "markdown",
   "metadata": {},
   "source": [
    "___All of the NAM scripts were written by Melissa May Maestas.___\n",
    "\n",
    "***Process_NAM_data_step1.R*** reads in locations file and outputs the ‘\\* \\_NextDay’ csv file,\n",
    "which includes the next day for each location/day listed in the first file. The purpose of this\n",
    "is so all of the necessary NAM files can be processed. UTC dates can go into the next day\n",
    "for western US time zones.\n",
    "\n",
    "***Process_NAM_data_step2_parallel.R*** downloads each NAM file, extracts relevant data, and\n",
    "deletes the original NAM data. (All of the NAM files together would be about 1.6 Tb.) This file operates in parallel (even in parallel, this step takes by far the longest in the NAM processing), and will use n-1 cores, where n is the number of cores on the computer. The output is 1 csv with all locations of interest for a given date and time step. The time steps for the NAM are 0Z, 6Z, 12Z, and 18Z. The output files have the format Locations_Dates_of_PM25_Obs_DeDuplicate_YYYY_MM_DD_XXUTC.csv where XX refers the to the timestep. Change the study start and stop dates for the dates to be processed. \n",
    "\n",
    "***Process_NAM_data_step3.R*** merges all of the files from step 2 into a single file and adds a\n",
    "column at the beginning giving the UTC time stamp.\n",
    "\n",
    "***Process_NAM_data_step4.R*** adds time zones and local times.\n",
    "\n",
    "***Process_NAM_data_step5.R*** merges the 4 time steps to give a 24-hr summary. Min, max,\n",
    "mean, etc. is set in MeteoVariabesNAM.csv.\n",
    "\n"
   ]
  }
 ],
 "metadata": {
  "kernelspec": {
   "display_name": "Python 3",
   "language": "python",
   "name": "python3"
  },
  "language_info": {
   "codemirror_mode": {
    "name": "ipython",
    "version": 3
   },
   "file_extension": ".py",
   "mimetype": "text/x-python",
   "name": "python",
   "nbconvert_exporter": "python",
   "pygments_lexer": "ipython3",
   "version": "3.6.5"
  }
 },
 "nbformat": 4,
 "nbformat_minor": 2
}
